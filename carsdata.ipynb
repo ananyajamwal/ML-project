{
 "cells": [
  {
   "cell_type": "code",
   "execution_count": 1,
   "metadata": {},
   "outputs": [
    {
     "name": "stdout",
     "output_type": "stream",
     "text": [
      "Accuracy is  75.47169811320755\n"
     ]
    }
   ],
   "source": [
    "import numpy as np\n",
    "from sklearn.model_selection import train_test_split\n",
    "from sklearn.tree import DecisionTreeClassifier\n",
    "from sklearn.metrics import accuracy_score\n",
    "from sklearn import tree\n",
    "from sklearn import preprocessing\n",
    "import pandas as pd\n",
    "balance_data=pd.read_csv(\"/home/ananya/Downloads/carsdata/cars.csv\",sep= ',', header= None)\n",
    "\n",
    "#converting string target to numeric\n",
    "\n",
    "le = preprocessing.LabelEncoder()\n",
    "balance_data = balance_data.apply(le.fit_transform)\n",
    "\n",
    "#splitting data into features and targets\n",
    "X = balance_data.values[:, 0:7]\n",
    "Y = balance_data.values[:,7]\n",
    "\n",
    "#splitting dataset into test and train 80:20\n",
    "X_train, X_test, y_train, y_test = train_test_split( X, Y, test_size = 0.2, random_state = 100)\n",
    "\n",
    "#Decision Tree Classifier with criterion gini index\n",
    "clf_gini = DecisionTreeClassifier(criterion = \"gini\", random_state = 100,\n",
    "                               max_depth=3, min_samples_leaf=5)\n",
    "\n",
    "clf_gini.fit(X_train, y_train)\n",
    "\n",
    "\n",
    "y_pred = clf_gini.predict(X_test)\n",
    "\n",
    "\n",
    "#accuracy of model\n",
    "print (\"Accuracy is \", accuracy_score(y_test,y_pred)*100)"
   ]
  },
  {
   "cell_type": "code",
   "execution_count": null,
   "metadata": {},
   "outputs": [],
   "source": []
  }
 ],
 "metadata": {
  "kernelspec": {
   "display_name": "Python 3",
   "language": "python",
   "name": "python3"
  },
  "language_info": {
   "codemirror_mode": {
    "name": "ipython",
    "version": 3
   },
   "file_extension": ".py",
   "mimetype": "text/x-python",
   "name": "python",
   "nbconvert_exporter": "python",
   "pygments_lexer": "ipython3",
   "version": "3.6.8"
  }
 },
 "nbformat": 4,
 "nbformat_minor": 2
}
